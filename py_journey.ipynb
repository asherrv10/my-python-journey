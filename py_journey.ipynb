{
 "cells": [
  {
   "cell_type": "code",
   "execution_count": 1,
   "metadata": {},
   "outputs": [
    {
     "name": "stdout",
     "output_type": "stream",
     "text": [
      "{0: 0, 1: 1, 2: 4, 3: 9, 4: 16, 5: 25, 6: 36, 7: 49, 8: 64, 9: 81}\n"
     ]
    }
   ],
   "source": [
    "dict={}\n",
    "for i in range(10):\n",
    "     dict[i]=i**2\n",
    "print(dict)"
   ]
  },
  {
   "cell_type": "code",
   "execution_count": 4,
   "metadata": {},
   "outputs": [
    {
     "name": "stdout",
     "output_type": "stream",
     "text": [
      "{0: 0, 1: 1, 2: 4, 3: 9, 4: 16, 5: 25, 6: 36, 7: 49, 8: 64, 9: 81}\n"
     ]
    }
   ],
   "source": [
    "evens={x:x**2 for x in range(10)}\n",
    "print(evens)"
   ]
  },
  {
   "cell_type": "code",
   "execution_count": 6,
   "metadata": {},
   "outputs": [
    {
     "name": "stdout",
     "output_type": "stream",
     "text": [
      "{1: 1, 2: 2, 3: 3, 4: 4}\n"
     ]
    }
   ],
   "source": [
    "freq=[1,2,2,3,3,3,4,4,4,4]\n",
    "dict={}\n",
    "for i in freq:\n",
    "    if i in dict.keys():\n",
    "        dict[i]+=1\n",
    "    else:\n",
    "        dict[i]=1\n",
    "print(dict)"
   ]
  },
  {
   "cell_type": "code",
   "execution_count": 7,
   "metadata": {},
   "outputs": [],
   "source": [
    "stud={\"Name\":\"Asher\",\"Age\":17}"
   ]
  },
  {
   "cell_type": "code",
   "execution_count": 9,
   "metadata": {},
   "outputs": [],
   "source": [
    "stud_cpy=stud.copy()"
   ]
  },
  {
   "cell_type": "code",
   "execution_count": 10,
   "metadata": {},
   "outputs": [
    {
     "name": "stdout",
     "output_type": "stream",
     "text": [
      "{'Name': 'Rohan', 'Age': 17}\n",
      "{'Name': 'Asher', 'Age': 17}\n"
     ]
    }
   ],
   "source": [
    "stud[\"Name\"]=\"Rohan\"\n",
    "print(stud)\n",
    "print(stud_cpy)"
   ]
  },
  {
   "cell_type": "code",
   "execution_count": 1,
   "metadata": {},
   "outputs": [
    {
     "name": "stdout",
     "output_type": "stream",
     "text": [
      "hello world\n"
     ]
    }
   ],
   "source": [
    "print(\"hello world\")\n"
   ]
  },
  {
   "cell_type": "code",
   "execution_count": 5,
   "metadata": {},
   "outputs": [
    {
     "name": "stdout",
     "output_type": "stream",
     "text": [
      "1\n",
      "2\n",
      "3\n",
      "4\n",
      "5\n",
      "Asher\n"
     ]
    }
   ],
   "source": [
    "def read(*args):\n",
    "  for i in args:\n",
    "    print(f\"{i}\")\n",
    "read(1,2,3,4,5,'Asher')\n"
   ]
  },
  {
   "cell_type": "code",
   "execution_count": 1,
   "metadata": {},
   "outputs": [
    {
     "name": "stdout",
     "output_type": "stream",
     "text": [
      "5\n"
     ]
    }
   ],
   "source": [
    "addition=lambda a,b:a+b\n",
    "print(addition(2,3))"
   ]
  },
  {
   "cell_type": "code",
   "execution_count": 1,
   "metadata": {},
   "outputs": [
    {
     "data": {
      "text/plain": [
       "[2, 4, 8]"
      ]
     },
     "execution_count": 1,
     "metadata": {},
     "output_type": "execute_result"
    }
   ],
   "source": [
    "num=[1,2,3,4,5,7,8]\n",
    "def even(num):\n",
    "    if(num%2==0):\n",
    "        return num\n",
    "list(filter(even,num))"
   ]
  },
  {
   "cell_type": "code",
   "execution_count": 7,
   "metadata": {},
   "outputs": [
    {
     "name": "stdout",
     "output_type": "stream",
     "text": [
      "['*****', '*     *', '*     *', '*     *', '*****']\n"
     ]
    }
   ],
   "source": [
    "def sq(n):\n",
    "    return '*',n*' ','*'\n",
    "def gen(n):\n",
    "    return n*'*'\n",
    "n=int(input(\"Enter the value of reps: \"))\n",
    "L=[]\n",
    "if(n>2):\n",
    " for i in range(1,n+1):\n",
    "  if(i==1):\n",
    "   c=gen(n)\n",
    "   L.append(c)\n",
    "  elif(i!=n):\n",
    "   char=sq(n)\n",
    "   c=''.join(char)\n",
    "   L.append(c)\n",
    "  elif(i==n):\n",
    "    c=gen(n)\n",
    "    L.append(c)\n",
    " print(L)\n",
    "else:\n",
    "    for i in range(n):\n",
    "        c=gen(n)\n",
    "        L.append(c)\n",
    "    print(L)\n",
    "  \n"
   ]
  },
  {
   "cell_type": "code",
   "execution_count": 11,
   "metadata": {},
   "outputs": [
    {
     "name": "stdout",
     "output_type": "stream",
     "text": [
      "['*****', '*****', '*****', '*****']\n"
     ]
    }
   ],
   "source": [
    "def gen(m):\n",
    "    return m*'*'\n",
    "n=int(input(\"Enter the length:\"))\n",
    "m=int(input(\"Enter the breadth: \"))\n",
    "L=[]\n",
    "if(n>=1 and m<=100):\n",
    " for i in range(n):\n",
    "    c=gen(m)\n",
    "    L.append(c)\n",
    " print(L)\n",
    "else:\n",
    "    print('Invalid input')"
   ]
  },
  {
   "cell_type": "code",
   "execution_count": 74,
   "metadata": {},
   "outputs": [
    {
     "name": "stdout",
     "output_type": "stream",
     "text": [
      "['    1    ', '   1 2   ', '  1 2 3  ', ' 1 2 3 4 ', '1 2 3 4 5']\n"
     ]
    }
   ],
   "source": [
    "def gen(n):\n",
    "    L=[]\n",
    "    for i in range(1,n+1):\n",
    "        ele=0\n",
    "        c=''\n",
    "        for j in range(1,i+1):\n",
    "            ele+=1\n",
    "            c+=str(ele)\n",
    "            if(j!=n):\n",
    "                c+=' '\n",
    "        L.append(c.center(2*n-1,' '))\n",
    "    print(L)\n",
    "n=int(input('Enter n: '))\n",
    "gen(n)"
   ]
  },
  {
   "cell_type": "code",
   "execution_count": 2,
   "metadata": {},
   "outputs": [
    {
     "name": "stdout",
     "output_type": "stream",
     "text": [
      "THE AREA= 15.0\n"
     ]
    }
   ],
   "source": [
    "def area_of_rectangle(l,b):\n",
    "    return l*b\n",
    "l,b=float(input('l=')),float(input('b='))\n",
    "print('THE AREA=',area_of_rectangle(l,b))"
   ]
  },
  {
   "cell_type": "code",
   "execution_count": null,
   "metadata": {},
   "outputs": [
    {
     "name": "stdout",
     "output_type": "stream",
     "text": [
      "80.0\n",
      "None\n"
     ]
    }
   ],
   "source": [
    "def calculate_distance(speed,time):\n",
    "     print(speed*time)\n",
    "s,t=float(input('Enter the speed: ')),float(input('Enter the time(in s): '))\n",
    "print(calculate_distance(s,t))\n"
   ]
  },
  {
   "cell_type": "code",
   "execution_count": null,
   "metadata": {},
   "outputs": [
    {
     "data": {
      "text/plain": [
       "[1, 2, 3, 4, 5, 7, 8]"
      ]
     },
     "execution_count": 11,
     "metadata": {},
     "output_type": "execute_result"
    }
   ],
   "source": [
    "def rotate_list(lst,k):\n",
    "     for i in range(len(lst)):\n",
    "         lst[i]=lst[i+3]"
   ]
  },
  {
   "cell_type": "markdown",
   "metadata": {},
   "source": []
  },
  {
   "cell_type": "code",
   "execution_count": null,
   "metadata": {},
   "outputs": [],
   "source": []
  },
  {
   "cell_type": "code",
   "execution_count": null,
   "metadata": {},
   "outputs": [],
   "source": []
  }
 ],
 "metadata": {
  "kernelspec": {
   "display_name": "Python 3",
   "language": "python",
   "name": "python3"
  },
  "language_info": {
   "codemirror_mode": {
    "name": "ipython",
    "version": 3
   },
   "file_extension": ".py",
   "mimetype": "text/x-python",
   "name": "python",
   "nbconvert_exporter": "python",
   "pygments_lexer": "ipython3",
   "version": "3.12.0"
  }
 },
 "nbformat": 4,
 "nbformat_minor": 2
}
